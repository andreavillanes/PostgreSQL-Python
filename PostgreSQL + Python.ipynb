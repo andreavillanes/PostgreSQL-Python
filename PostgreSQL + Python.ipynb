{
 "cells": [
  {
   "cell_type": "code",
   "execution_count": null,
   "metadata": {},
   "outputs": [],
   "source": [
    "import pandas as pd\n",
    "import psycopg2\n",
    "import numpy as np\n",
    "\n",
    "#Connecting to the local PostgreSQL database using Python\n",
    "\n",
    "def connect_db():\n",
    "    hostname=\"localhost\"\n",
    "    port=\"5432\"\n",
    "    dbname=\"postgres\"\n",
    "    user=\"postgres\"\n",
    "    pwd=\"XXX\"\n",
    "    conn = psycopg2.connect(user = user, password = pwd, host = hostname, port = port, database = dbname)    \n",
    "    return conn\n",
    "\n",
    "def get_Sentiment_df(conn):\n",
    "    df = pd.read_sql(\"\"\"select * from \"Dengue\".\"Lexicon\";\"\"\", con=conn)\n",
    "    return df\n",
    "\n",
    "def get_Sentiment_mosquito_df(conn):\n",
    "    df = pd.read_sql(\"\"\"select * from \"Dengue\".\"Lexicon\" where word='mosquito';\"\"\", con=conn)\n",
    "    return df\n",
    "\n",
    "def get_union_df(conn):\n",
    "    df = pd.read_sql('select word, sentiment from \"Dengue\".\"Lexicon\" UNION select word, sentiment from \"Dengue\".\"Lexicon\";', con=conn)\n",
    "    return df\n",
    "\n",
    "def get_avg_mosquito(conn):\n",
    "    df = pd.read_sql('select sentiment, avg(score) from \"Dengue\".\"Lexicon\" group by 1;', con=conn)\n",
    "    return df    \n",
    "\n",
    "#main\n",
    "conn = connect_db()\n",
    "df_out = get_Sentiment_df(conn)\n",
    "df_mos = get_Sentiment_mosquito_df(conn)\n",
    "df_join = get_union_df(conn)\n",
    "df_avg = get_avg_mosquito(conn)"
   ]
  },
  {
   "cell_type": "code",
   "execution_count": null,
   "metadata": {},
   "outputs": [],
   "source": [
    "df_out[df_out['word'] == 'mosquito']"
   ]
  },
  {
   "cell_type": "code",
   "execution_count": null,
   "metadata": {},
   "outputs": [],
   "source": [
    "df_out.groupby('sentiment').agg({'score': np.mean})"
   ]
  },
  {
   "cell_type": "code",
   "execution_count": null,
   "metadata": {},
   "outputs": [],
   "source": [
    "import pymysql\n",
    "import pandas as pd \n",
    "\n",
    "#Connecting to a AWS RDS MySQL database using Python\n",
    "\n",
    "def connect_db():\n",
    "    host=\"XXX.cprzbsokwcwb.us-west-2.rds.amazonaws.com\"\n",
    "    port=3306\n",
    "    dbname=\"XXX\"\n",
    "    user=\"XXX\"\n",
    "    password=\"XXX\"\n",
    "    conn = pymysql.connect(host, user=user,port=port,\n",
    "                               passwd=password, db=dbname)\n",
    "    return conn\n",
    "   \n",
    "def get_newspapers_df(month, conn):\n",
    "    df = pd.read_sql('select * from NEWSPAPER_ARTICLES where year = 2014 and country_id=101 and month=%(dmonth)s;', params={\"dmonth\":month},con=conn)\n",
    "    df = df.drop_duplicates(subset='Tittle', keep=\"first\")\n",
    "    return df"
   ]
  },
  {
   "cell_type": "code",
   "execution_count": null,
   "metadata": {},
   "outputs": [],
   "source": [
    "conn = connect_db()\n",
    "df = get_newspapers_df(1,conn)\n",
    "df"
   ]
  }
 ],
 "metadata": {
  "kernelspec": {
   "display_name": "Python 3",
   "language": "python",
   "name": "python3"
  },
  "language_info": {
   "codemirror_mode": {
    "name": "ipython",
    "version": 3
   },
   "file_extension": ".py",
   "mimetype": "text/x-python",
   "name": "python",
   "nbconvert_exporter": "python",
   "pygments_lexer": "ipython3",
   "version": "3.5.5"
  }
 },
 "nbformat": 4,
 "nbformat_minor": 2
}
