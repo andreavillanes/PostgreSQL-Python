{
 "cells": [
  {
   "cell_type": "code",
   "execution_count": 1,
   "metadata": {},
   "outputs": [
    {
     "ename": "OperationalError",
     "evalue": "FATAL:  password authentication failed for user \"postgres\"\n",
     "output_type": "error",
     "traceback": [
      "\u001b[1;31m---------------------------------------------------------------------------\u001b[0m",
      "\u001b[1;31mOperationalError\u001b[0m                          Traceback (most recent call last)",
      "\u001b[1;32m<ipython-input-1-78a7ab3205d9>\u001b[0m in \u001b[0;36m<module>\u001b[1;34m()\u001b[0m\n\u001b[0;32m     31\u001b[0m \u001b[1;33m\u001b[0m\u001b[0m\n\u001b[0;32m     32\u001b[0m \u001b[1;31m#main\u001b[0m\u001b[1;33m\u001b[0m\u001b[1;33m\u001b[0m\u001b[0m\n\u001b[1;32m---> 33\u001b[1;33m \u001b[0mconn\u001b[0m \u001b[1;33m=\u001b[0m \u001b[0mconnect_db\u001b[0m\u001b[1;33m(\u001b[0m\u001b[1;33m)\u001b[0m\u001b[1;33m\u001b[0m\u001b[0m\n\u001b[0m\u001b[0;32m     34\u001b[0m \u001b[0mdf_out\u001b[0m \u001b[1;33m=\u001b[0m \u001b[0mget_Sentiment_df\u001b[0m\u001b[1;33m(\u001b[0m\u001b[0mconn\u001b[0m\u001b[1;33m)\u001b[0m\u001b[1;33m\u001b[0m\u001b[0m\n\u001b[0;32m     35\u001b[0m \u001b[0mdf_mos\u001b[0m \u001b[1;33m=\u001b[0m \u001b[0mget_Sentiment_mosquito_df\u001b[0m\u001b[1;33m(\u001b[0m\u001b[0mconn\u001b[0m\u001b[1;33m)\u001b[0m\u001b[1;33m\u001b[0m\u001b[0m\n",
      "\u001b[1;32m<ipython-input-1-78a7ab3205d9>\u001b[0m in \u001b[0;36mconnect_db\u001b[1;34m()\u001b[0m\n\u001b[0;32m     11\u001b[0m     \u001b[0muser\u001b[0m\u001b[1;33m=\u001b[0m\u001b[1;34m\"postgres\"\u001b[0m\u001b[1;33m\u001b[0m\u001b[0m\n\u001b[0;32m     12\u001b[0m     \u001b[0mpwd\u001b[0m\u001b[1;33m=\u001b[0m\u001b[1;34m\"XXX\"\u001b[0m\u001b[1;33m\u001b[0m\u001b[0m\n\u001b[1;32m---> 13\u001b[1;33m     \u001b[0mconn\u001b[0m \u001b[1;33m=\u001b[0m \u001b[0mpsycopg2\u001b[0m\u001b[1;33m.\u001b[0m\u001b[0mconnect\u001b[0m\u001b[1;33m(\u001b[0m\u001b[0muser\u001b[0m \u001b[1;33m=\u001b[0m \u001b[0muser\u001b[0m\u001b[1;33m,\u001b[0m \u001b[0mpassword\u001b[0m \u001b[1;33m=\u001b[0m \u001b[0mpwd\u001b[0m\u001b[1;33m,\u001b[0m \u001b[0mhost\u001b[0m \u001b[1;33m=\u001b[0m \u001b[0mhostname\u001b[0m\u001b[1;33m,\u001b[0m \u001b[0mport\u001b[0m \u001b[1;33m=\u001b[0m \u001b[0mport\u001b[0m\u001b[1;33m,\u001b[0m \u001b[0mdatabase\u001b[0m \u001b[1;33m=\u001b[0m \u001b[0mdbname\u001b[0m\u001b[1;33m)\u001b[0m\u001b[1;33m\u001b[0m\u001b[0m\n\u001b[0m\u001b[0;32m     14\u001b[0m     \u001b[1;32mreturn\u001b[0m \u001b[0mconn\u001b[0m\u001b[1;33m\u001b[0m\u001b[0m\n\u001b[0;32m     15\u001b[0m \u001b[1;33m\u001b[0m\u001b[0m\n",
      "\u001b[1;32m~\\AppData\\Local\\Continuum\\anaconda2\\envs\\Python 3\\lib\\site-packages\\psycopg2\\__init__.py\u001b[0m in \u001b[0;36mconnect\u001b[1;34m(dsn, database, user, password, host, port, connection_factory, cursor_factory, async, **kwargs)\u001b[0m\n\u001b[0;32m    162\u001b[0m                 for (k, v) in items])\n\u001b[0;32m    163\u001b[0m \u001b[1;33m\u001b[0m\u001b[0m\n\u001b[1;32m--> 164\u001b[1;33m     \u001b[0mconn\u001b[0m \u001b[1;33m=\u001b[0m \u001b[0m_connect\u001b[0m\u001b[1;33m(\u001b[0m\u001b[0mdsn\u001b[0m\u001b[1;33m,\u001b[0m \u001b[0mconnection_factory\u001b[0m\u001b[1;33m=\u001b[0m\u001b[0mconnection_factory\u001b[0m\u001b[1;33m,\u001b[0m \u001b[0masync\u001b[0m\u001b[1;33m=\u001b[0m\u001b[0masync\u001b[0m\u001b[1;33m)\u001b[0m\u001b[1;33m\u001b[0m\u001b[0m\n\u001b[0m\u001b[0;32m    165\u001b[0m     \u001b[1;32mif\u001b[0m \u001b[0mcursor_factory\u001b[0m \u001b[1;32mis\u001b[0m \u001b[1;32mnot\u001b[0m \u001b[1;32mNone\u001b[0m\u001b[1;33m:\u001b[0m\u001b[1;33m\u001b[0m\u001b[0m\n\u001b[0;32m    166\u001b[0m         \u001b[0mconn\u001b[0m\u001b[1;33m.\u001b[0m\u001b[0mcursor_factory\u001b[0m \u001b[1;33m=\u001b[0m \u001b[0mcursor_factory\u001b[0m\u001b[1;33m\u001b[0m\u001b[0m\n",
      "\u001b[1;31mOperationalError\u001b[0m: FATAL:  password authentication failed for user \"postgres\"\n"
     ]
    }
   ],
   "source": [
    "import pandas as pd\n",
    "import psycopg2\n",
    "import numpy as np\n",
    "\n",
    "#Connecting to the local PostgreSQL database using Python\n",
    "\n",
    "def connect_db():\n",
    "    hostname=\"localhost\"\n",
    "    port=\"5432\"\n",
    "    dbname=\"postgres\"\n",
    "    user=\"postgres\"\n",
    "    pwd=\"XXX\"\n",
    "    conn = psycopg2.connect(user = user, password = pwd, host = hostname, port = port, database = dbname)    \n",
    "    return conn\n",
    "\n",
    "def get_Sentiment_df(conn):\n",
    "    df = pd.read_sql(\"\"\"select * from \"Dengue\".\"Lexicon\";\"\"\", con=conn)\n",
    "    return df\n",
    "\n",
    "def get_Sentiment_mosquito_df(conn):\n",
    "    df = pd.read_sql(\"\"\"select * from \"Dengue\".\"Lexicon\" where word='mosquito';\"\"\", con=conn)\n",
    "    return df\n",
    "\n",
    "def get_union_df(conn):\n",
    "    df = pd.read_sql('select word, sentiment from \"Dengue\".\"Lexicon\" UNION select word, sentiment from \"Dengue\".\"Lexicon\";', con=conn)\n",
    "    return df\n",
    "\n",
    "def get_avg_mosquito(conn):\n",
    "    df = pd.read_sql('select sentiment, avg(score) from \"Dengue\".\"Lexicon\" group by 1;', con=conn)\n",
    "    return df    \n",
    "\n",
    "#main\n",
    "conn = connect_db()\n",
    "df_out = get_Sentiment_df(conn)\n",
    "df_mos = get_Sentiment_mosquito_df(conn)\n",
    "df_join = get_union_df(conn)\n",
    "df_avg = get_avg_mosquito(conn)"
   ]
  },
  {
   "cell_type": "code",
   "execution_count": null,
   "metadata": {},
   "outputs": [],
   "source": [
    "df_out[df_out['word'] == 'mosquito']"
   ]
  },
  {
   "cell_type": "code",
   "execution_count": null,
   "metadata": {},
   "outputs": [],
   "source": [
    "df_out.groupby('sentiment').agg({'score': np.mean})"
   ]
  },
  {
   "cell_type": "code",
   "execution_count": null,
   "metadata": {},
   "outputs": [],
   "source": [
    "import pymysql\n",
    "import pandas as pd \n",
    "\n",
    "#Connecting to a AWS RDS MySQL database using Python\n",
    "\n",
    "def connect_db():\n",
    "    host=\"XXX.cprzbsokwcwb.us-west-2.rds.amazonaws.com\"\n",
    "    port=3306\n",
    "    dbname=\"XXX\"\n",
    "    user=\"XXX\"\n",
    "    password=\"XXX\"\n",
    "    conn = pymysql.connect(host, user=user,port=port,\n",
    "                               passwd=password, db=dbname)\n",
    "    return conn\n",
    "   \n",
    "def get_newspapers_df(month, conn):\n",
    "    df = pd.read_sql('select * from NEWSPAPER_ARTICLES where year = 2014 and country_id=101 and month=%(dmonth)s;', params={\"dmonth\":month},con=conn)\n",
    "    df = df.drop_duplicates(subset='Tittle', keep=\"first\")\n",
    "    return df"
   ]
  },
  {
   "cell_type": "code",
   "execution_count": null,
   "metadata": {},
   "outputs": [],
   "source": [
    "conn = connect_db()\n",
    "df = get_newspapers_df(1,conn)\n",
    "df"
   ]
  }
 ],
 "metadata": {
  "kernelspec": {
   "display_name": "Python 3",
   "language": "python",
   "name": "python3"
  },
  "language_info": {
   "codemirror_mode": {
    "name": "ipython",
    "version": 3
   },
   "file_extension": ".py",
   "mimetype": "text/x-python",
   "name": "python",
   "nbconvert_exporter": "python",
   "pygments_lexer": "ipython3",
   "version": "3.5.5"
  }
 },
 "nbformat": 4,
 "nbformat_minor": 2
}
